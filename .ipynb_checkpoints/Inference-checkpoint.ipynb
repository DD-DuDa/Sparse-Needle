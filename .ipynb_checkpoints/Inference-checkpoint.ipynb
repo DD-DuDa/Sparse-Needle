{
 "cells": [
  {
   "cell_type": "code",
   "execution_count": 28,
   "id": "8830d796-77d5-4fd1-9364-5efc059b3052",
   "metadata": {},
   "outputs": [],
   "source": [
    "import sys\n",
    "sys.path.append('./python')\n",
    "\n",
    "import numpy as np\n",
    "import pytest\n",
    "import needle as ndl\n",
    "from needle import backend_ndarray as nd"
   ]
  },
  {
   "cell_type": "code",
   "execution_count": 33,
   "id": "3ccea5ad-4501-418c-b91a-afda05e9cec6",
   "metadata": {},
   "outputs": [],
   "source": [
    "matmul_dims = [(16, 16, 16), \n",
    "    (8, 8, 8), \n",
    "    (1, 2, 3), \n",
    "    (3, 4, 5), \n",
    "    (5, 4, 3), \n",
    "    (64, 64, 64), \n",
    "    (72, 72, 72), \n",
    "    (72, 73, 74), \n",
    "    (74, 73, 72), \n",
    "    (128, 128, 128)]\n",
    "\n",
    "#for dim in matmul_dims:\n",
    "dom = (10240, 10240, 10240)\n",
    "m = dim[0]\n",
    "n = dim[1]\n",
    "p = dim[2]\n",
    "_A = np.random.randn(m, n)\n",
    "_B = np.random.randn(n, p)\n",
    "\n",
    "result = _A @ _B\n",
    "    \n",
    "# matmul_dims = (4, 4, 4)\n",
    "\n",
    "\n",
    "# m = matmul_dims[0]\n",
    "# n = matmul_dims[1]\n",
    "# p = matmul_dims[2]\n",
    "\n",
    "# _A = np.random.randn(m, n)\n",
    "# _B = np.random.randn(n, p)\n",
    "# _A @ _B"
   ]
  },
  {
   "cell_type": "code",
   "execution_count": 30,
   "id": "8b3a7b69-e618-4e7e-92d6-06dcf370533f",
   "metadata": {},
   "outputs": [
    {
     "data": {
      "text/plain": [
       "NDArray([[ 0.02585246  2.458321    0.6424153  -0.67587477]\n",
       " [-0.3449553   1.0955548  -0.7117723  -0.47975522]\n",
       " [-2.2195642   2.0441206   3.0283465  -3.8721557 ]\n",
       " [ 1.5075029   1.44233     0.81760776  1.7778299 ]], device=cuda())"
      ]
     },
     "execution_count": 30,
     "metadata": {},
     "output_type": "execute_result"
    }
   ],
   "source": [
    "A = nd.array(_A, device = nd.cuda())\n",
    "B = nd.array(_B, device = nd.cuda())\n",
    "\n",
    "A @ B"
   ]
  },
  {
   "cell_type": "code",
   "execution_count": null,
   "id": "3f856006-f004-4d62-b1b8-7761eb393d9b",
   "metadata": {},
   "outputs": [],
   "source": []
  },
  {
   "cell_type": "code",
   "execution_count": null,
   "id": "d59e54d2-78cb-4b30-afe4-9e6d7d144e30",
   "metadata": {},
   "outputs": [],
   "source": []
  }
 ],
 "metadata": {
  "kernelspec": {
   "display_name": "Python 3 (ipykernel)",
   "language": "python",
   "name": "python3"
  },
  "language_info": {
   "codemirror_mode": {
    "name": "ipython",
    "version": 3
   },
   "file_extension": ".py",
   "mimetype": "text/x-python",
   "name": "python",
   "nbconvert_exporter": "python",
   "pygments_lexer": "ipython3",
   "version": "3.9.10"
  }
 },
 "nbformat": 4,
 "nbformat_minor": 5
}
