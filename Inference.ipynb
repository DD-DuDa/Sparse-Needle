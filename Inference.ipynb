{
 "cells": [
  {
   "cell_type": "code",
   "execution_count": 5,
   "metadata": {},
   "outputs": [],
   "source": [
    "import sys\n",
    "sys.path.append('./python')\n",
    "\n",
    "import numpy as np\n",
    "import pytest\n",
    "import needle as ndl\n",
    "from needle import backend_ndarray as nd\n",
    "import needle.nn as nn\n",
    "import needle.optim as optim\n",
    "from needle import data as ndldata\n",
    "import needle.init as init\n",
    "import needle.ops as ops\n",
    "import time\n",
    "from tqdm import tqdm\n",
    "\n",
    "np.random.seed(4)"
   ]
  },
  {
   "cell_type": "code",
   "execution_count": null,
   "metadata": {},
   "outputs": [],
   "source": []
  }
 ],
 "metadata": {
  "language_info": {
   "name": "python"
  },
  "orig_nbformat": 4
 },
 "nbformat": 4,
 "nbformat_minor": 2
}
