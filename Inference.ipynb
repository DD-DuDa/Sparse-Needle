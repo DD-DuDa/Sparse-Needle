{
 "cells": [
  {
   "cell_type": "code",
   "execution_count": 1,
   "id": "8830d796-77d5-4fd1-9364-5efc059b3052",
   "metadata": {},
   "outputs": [],
   "source": [
    "import sys\n",
    "sys.path.append('./python')\n",
    "\n",
    "import numpy as np\n",
    "import pytest\n",
    "from needle import backend_ndarray as nd\n",
    "import needle.nn as nn\n",
    "import needle.optim as optim\n",
    "import needle as ndl\n",
    "from needle import data as ndldata\n",
    "import time\n",
    "\n",
    "np.random.seed(4)"
   ]
  },
  {
   "cell_type": "markdown",
   "id": "ea96e248-fb4c-4c03-8a4e-ce25369c75e7",
   "metadata": {},
   "source": [
    "# Matmul test - CPU VS GPU"
   ]
  },
  {
   "cell_type": "code",
   "execution_count": 2,
   "id": "8821e89b-5409-458c-b1ff-0f124c080d6b",
   "metadata": {},
   "outputs": [
    {
     "name": "stdout",
     "output_type": "stream",
     "text": [
      "time of cpu: 5.98693323135376\n",
      "time of gpu: 0.004266977310180664\n"
     ]
    }
   ],
   "source": [
    "matmul_dims = (5000, 5000, 5000)\n",
    "\n",
    "m = matmul_dims[0]\n",
    "n = matmul_dims[1]\n",
    "p = matmul_dims[2]\n",
    "\n",
    "_A = np.random.randn(m, n)\n",
    "_B = np.random.randn(n, p)\n",
    "\n",
    "st = time.time()\n",
    "_S = _A @ _B\n",
    "ed = time.time()\n",
    "total = ed - st\n",
    "\n",
    "print(\"time of cpu:\", total)\n",
    "\n",
    "A = nd.array(_A, device = nd.cuda())\n",
    "B = nd.array(_B, device = nd.cuda())\n",
    "\n",
    "st = time.time()\n",
    "S = A @ B\n",
    "ed = time.time()\n",
    "total = ed - st\n",
    "\n",
    "print(\"time of gpu:\", total)"
   ]
  },
  {
   "cell_type": "markdown",
   "id": "b646eac9-30f4-4157-b9dd-557e15f1fb6b",
   "metadata": {},
   "source": [
    "# Inference MNIST On CPU"
   ]
  },
  {
   "cell_type": "code",
   "execution_count": 3,
   "id": "d2643d2f-4aa9-47b4-b250-3b8c1a0ea60b",
   "metadata": {},
   "outputs": [],
   "source": [
    "import sys\n",
    "sys.path.append('./python')\n",
    "\n",
    "import numpy as np\n",
    "import pytest\n",
    "import needle as ndl\n",
    "from needle import backend_ndarray as nd\n",
    "import needle.nn as nn\n",
    "import needle.optim as optim\n",
    "from needle import data as ndldata\n",
    "import needle.init as init\n",
    "import needle.ops as ops\n",
    "import time\n",
    "from tqdm import tqdm\n",
    "\n",
    "np.random.seed(4)\n",
    "# model\n",
    "def MLPNet(dim, hidden_dim=100, num_classes=10):\n",
    "    ### BEGIN YOUR SOLUTION\n",
    "    mlpNet = nn.Sequential(\n",
    "        nn.Linear(in_features=dim, out_features=hidden_dim), \n",
    "        nn.ReLU(), \n",
    "        nn.Linear(in_features=hidden_dim, out_features=num_classes))\n",
    "    return mlpNet\n",
    "\n",
    "BATCH_SIZE = 100\n",
    "HIDDEN_DIM = 100\n",
    "\n",
    "mnist_train_dataset = ndldata.MNISTDataset(\"data/train-images-idx3-ubyte.gz\",\n",
    "                                            \"data/train-labels-idx1-ubyte.gz\")\n",
    "\n",
    "mnist_train_dataloader = ndldata.DataLoader(dataset=mnist_train_dataset,\n",
    "                                                 batch_size=BATCH_SIZE,\n",
    "                                                 shuffle=True)\n",
    "\n",
    "mnist_test_dataset = ndldata.MNISTDataset(\"data/t10k-images-idx3-ubyte.gz\",\n",
    "                                               \"data/t10k-labels-idx1-ubyte.gz\")\n",
    "\n",
    "mnist_test_dataloader = ndldata.DataLoader(dataset=mnist_test_dataset,\n",
    "                                            batch_size=BATCH_SIZE,\n",
    "                                            shuffle=False)\n",
    "\n",
    "model = MLPNet(784, HIDDEN_DIM)\n",
    "\n",
    "loss_fn = nn.SoftmaxLoss()\n",
    "loss_list = []\n",
    "acc_list = []\n",
    "\n",
    "model.train()\n",
    "\n",
    "opt = optim.Adam(model.parameters(), lr=0.001, weight_decay=0.001)"
   ]
  },
  {
   "cell_type": "code",
   "execution_count": 4,
   "id": "f434964e-b26f-4cf2-8357-b80635fb5721",
   "metadata": {
    "scrolled": true,
    "tags": []
   },
   "outputs": [
    {
     "name": "stderr",
     "output_type": "stream",
     "text": [
      "600it [00:29, 20.27it/s]\n"
     ]
    }
   ],
   "source": [
    "n_sample, correct = 0, 0\n",
    "for i, batch in tqdm(enumerate(mnist_train_dataloader)):\n",
    "    x, y = batch[0], batch[1]\n",
    "    x = x.reshape((x.shape[0], -1))\n",
    "    y_hat = model(x)\n",
    "    \n",
    "    loss = loss_fn(y_hat, y)\n",
    "    loss_list.append(loss.cached_data.numpy())\n",
    "    \n",
    "    logit = nd.NDArray(np.argmax(y_hat.cached_data.numpy(), axis=1))\n",
    "    correct += np.sum((logit == y.cached_data).numpy().astype('int'))\n",
    "    \n",
    "    n_sample += x.shape[0]\n",
    "    acc_list.append(correct / x.shape[0])\n",
    "    \n",
    "    opt.reset_grad()\n",
    "    loss.backward()\n",
    "    opt.step()\n",
    "    \n",
    "acc, loss = correct/n_sample, np.mean(loss_list)\n"
   ]
  },
  {
   "cell_type": "code",
   "execution_count": 7,
   "id": "9a684810-8fb4-46f6-9439-31154749f67a",
   "metadata": {},
   "outputs": [
    {
     "data": {
      "text/plain": [
       "0.9009666666666667"
      ]
     },
     "execution_count": 7,
     "metadata": {},
     "output_type": "execute_result"
    }
   ],
   "source": [
    "acc"
   ]
  }
 ],
 "metadata": {
  "kernelspec": {
   "display_name": "Python 3 (ipykernel)",
   "language": "python",
   "name": "python3"
  },
  "language_info": {
   "codemirror_mode": {
    "name": "ipython",
    "version": 3
   },
   "file_extension": ".py",
   "mimetype": "text/x-python",
   "name": "python",
   "nbconvert_exporter": "python",
   "pygments_lexer": "ipython3",
   "version": "3.9.10"
  }
 },
 "nbformat": 4,
 "nbformat_minor": 5
}
