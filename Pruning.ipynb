{
 "cells": [
  {
   "cell_type": "markdown",
   "metadata": {},
   "source": [
    "# pruning in pytorch"
   ]
  },
  {
   "cell_type": "code",
   "execution_count": 2,
   "metadata": {},
   "outputs": [
    {
     "name": "stdout",
     "output_type": "stream",
     "text": [
      "Found permutation search CUDA kernels\n",
      "[ASP][Info] permutation_search_kernels can be imported.\n"
     ]
    }
   ],
   "source": [
    "import torch\n",
    "from torch import nn\n",
    "from torch import optim\n",
    "from apex.contrib.sparsity import ASP\n",
    "\n",
    "import matplotlib.pyplot as plt"
   ]
  },
  {
   "cell_type": "code",
   "execution_count": 3,
   "metadata": {},
   "outputs": [],
   "source": [
    "def Torch_MLPNet(dim, hidden_dim=100, num_classes=10):\n",
    "    ### BEGIN YOUR SOLUTION\n",
    "    mlpNet = nn.Sequential(\n",
    "        nn.Linear(in_features=784, out_features=hidden_dim), \n",
    "        nn.ReLU(), \n",
    "        nn.Linear(in_features=hidden_dim, out_features=10))\n",
    "    return mlpNet\n",
    "\n",
    "mlpNet = Torch_MLPNet(784, hidden_dim=128, num_classes=10).cuda()"
   ]
  },
  {
   "cell_type": "code",
   "execution_count": 4,
   "metadata": {},
   "outputs": [
    {
     "name": "stdout",
     "output_type": "stream",
     "text": [
      "[ASP] torchvision is imported, can work with the MaskRCNN/KeypointRCNN from torchvision.\n",
      "\n",
      "[set_permutation_params_from_asp] Set permutation needed parameters\n",
      "\n",
      "[set_identical_seed] Set the identical seed: 1 for all GPUs to make sure the same results generated in permutation search\n",
      "[ASP] Sparsifying 0::weight of size=torch.Size([128, 784]) and type=torch.float32 for sparsity\n",
      "[ASP] Not sparsifying 0::bias of size=torch.Size([128]) and type=torch.float32\n",
      "[ASP] Auto skipping pruning 2::weight of size=torch.Size([10, 128]) and type=torch.float32 for sparsity\n",
      "[ASP] Not sparsifying 2::bias of size=torch.Size([10]) and type=torch.float32\n",
      "\n",
      "[build_offline_permutation_graph] Further refine the model graph built by Torch.FX for offline permutation\n",
      "[build_fx_graph] The torch version is: 1.13.0+cu116, version major is: 1, version minor is: 13, version minimum is: 0+cu116\n",
      "[build_fx_graph] The Torch.FX is supported.\n",
      "\n",
      "[build_fx_graph] Print the model structure with pure PyTorch function\n",
      "Sequential(\n",
      "  (0): Linear(in_features=784, out_features=128, bias=True)\n",
      "  (1): ReLU()\n",
      "  (2): Linear(in_features=128, out_features=10, bias=True)\n",
      ")\n",
      "\n",
      "[build_fx_graph] Build the module name and type dictionary\n",
      "[build_fx_graph] module_name: , module type: <class 'torch.nn.modules.container.Sequential'>\n",
      "[build_fx_graph] module_name: 0, module type: <class 'torch.nn.modules.linear.Linear'>\n",
      "[build_fx_graph] module_name: 1, module type: <class 'torch.nn.modules.activation.ReLU'>\n",
      "[build_fx_graph] module_name: 2, module type: <class 'torch.nn.modules.linear.Linear'>\n",
      "\n",
      "[print_raw_fx_graph] Print the intermediate representation (IR) with Torch.FX\n",
      "graph():\n",
      "    %input_1 : [#users=1] = placeholder[target=input]\n",
      "    %_0 : [#users=1] = call_module[target=0](args = (%input_1,), kwargs = {})\n",
      "    %_1 : [#users=1] = call_module[target=1](args = (%_0,), kwargs = {})\n",
      "    %_2 : [#users=1] = call_module[target=2](args = (%_1,), kwargs = {})\n",
      "    return _2\n",
      "\n",
      "[print_raw_fx_graph] Print the intermediate representation (IR) with Torch.FX in a table format\n",
      "opcode       name     target    args        kwargs\n",
      "-----------  -------  --------  ----------  --------\n",
      "placeholder  input_1  input     ()          {}\n",
      "call_module  _0       0         (input_1,)  {}\n",
      "call_module  _1       1         (_0,)       {}\n",
      "call_module  _2       2         (_1,)       {}\n",
      "output       output   output    (_2,)       {}\n",
      "\n",
      "[build_fx_graph] Print the children and parents relationship for each layer\n",
      "[build_fx_graph] This is the 'input' node: input\n",
      "[build_fx_graph][warning] The target name from Torch.FX is '0', the manually converted node name is '.0', not the same one, choose the converted node name\n",
      "[build_fx_graph] This is the 'call_module' node: .0, its parent list: ['input.1'], its children list: ['.1'], its type: torch.nn.modules.linear.Linear\n",
      "[build_fx_graph][warning] The target name from Torch.FX is '1', the manually converted node name is '.1', not the same one, choose the converted node name\n",
      "[build_fx_graph] This is the 'call_module' node: .1, its parent list: ['.0'], its children list: ['.2'], its type: torch.nn.modules.activation.ReLU\n",
      "[build_fx_graph][warning] The target name from Torch.FX is '2', the manually converted node name is '.2', not the same one, choose the converted node name\n",
      "[build_fx_graph] This is the 'call_module' node: .2, its parent list: ['.1'], its children list: ['output'], its type: torch.nn.modules.linear.Linear\n",
      "[build_fx_graph] This is the 'output' node: output\n",
      "\n",
      "[find_real_parents] Find the real parents for each node according to the whole network graph built with Torch.FX\n",
      "[find_real_parents] node_name: '.0', parents num: 1\n",
      "[find_real_parents] node_name: '.0', has no real parent because this is the first node.\n",
      "[find_real_parents] node_name: '.1', parents num: 1\n",
      "[find_real_parents] node_name: '.1', has one real parent: '.0', its real parent module type: 'torch.nn.modules.linear.Linear'.\n",
      "[find_real_parents] node_name: '.2', parents num: 1\n",
      "[find_real_parents] node_name: '.2', has one/several real parent(s): '['.0']', its real parent module type: '['torch.nn.modules.linear.Linear']'.\n",
      "\n",
      "[find_real_children] Find the real children for each node according to the whole network graph built with Torch.FX\n",
      "\n",
      "[find_real_children] node_name: '.2', node module type: 'torch.nn.modules.linear.Linear', children num: 1, can directly find real children.\n",
      "\n",
      "[find_real_children] node_name: '.1', node module type: 'torch.nn.modules.activation.ReLU', children num: 1, recursive to find real children.\n",
      "[recursive_find_real_children] node_name: '.1', has one real child: '.2', its real child module type: 'torch.nn.modules.linear.Linear'.\n",
      "\n",
      "[find_real_children] node_name: '.0', node module type: 'torch.nn.modules.linear.Linear', children num: 1, can directly find real children.\n",
      "[find_real_children] node_name: '.0', has one real child: '.2', its real child module type: 'torch.nn.modules.linear.Linear'.\n",
      "\n",
      "[find_real_siblings] Find all siblings for each node according to the whole network graph built with Torch.FX\n",
      "[find_real_siblings] node_name: '.0', node module type: 'torch.nn.modules.linear.Linear', may have real siblings.\n",
      "[find_real_siblings] node_name: '.1', node module type: 'torch.nn.modules.activation.ReLU', has no real siblings.\n",
      "[find_real_siblings] node_name: '.2', node module type: 'torch.nn.modules.linear.Linear', may have real siblings.\n",
      "\n",
      "[extract_all_unique_siblings] Extract all unique siblings for the whole network graph built with Torch.FX\n",
      "[extract_all_unique_siblings] node_name: '.0', node module type: 'torch.nn.modules.linear.Linear', has no real siblings.\n",
      "[extract_all_unique_siblings] node_name: '.1', node module type: 'torch.nn.modules.activation.ReLU', has no real siblings.\n",
      "[extract_all_unique_siblings] node_name: '.2', node module type: 'torch.nn.modules.linear.Linear', has no real siblings.\n",
      "\n",
      "[init_permutation_flag] Init the permutation flag for each node according to the whole network graph built with Torch.FX\n",
      "\n",
      "[init_permutation_flag] Post-processing Step No.1.\n",
      "\n",
      "[init_permutation_flag] Post-processing Step No.2.\n",
      "\n",
      "[search_for_good_permutation] Search for the good permutation sequence for each node according to the whole network graph built with Torch.FX\n",
      "\n",
      "[search_for_good_permutation] this unique_siblings_group has 1 real siblings: '['.0']', with module type: '['torch.nn.modules.linear.Linear']'.\n",
      "[search_for_good_permutation] try to merge the weight for node: '.0', with module type: 'torch.nn.modules.linear.Linear'.\n",
      "[search_for_good_permutation] find the node: '.0' in cls.__sparse_parameters, module type match: 'True'.\n",
      "[search_for_good_permutation] have merged the weight for node: '.0', with its weight shape: 'torch.Size([128, 784])', the matrix_group shape: 'torch.Size([128, 784])'.\n",
      "\n",
      "[search_for_good_permutation] init the all-zero list with length '784' for permutation search sequence of this unique_siblings_group.\n",
      "Found 8 gpus\n",
      "\n",
      "[search_for_good_permutation] Original element abs sum: 1790.9960328970546, Pruned element abs sum: 1252.435302734375, Diff ratio: 0.30070459133933536\n",
      "[search_for_good_permutation] Original element abs sum is different from the pruned element abs sum, further permutation search will help, continue with the permutation search!\n",
      "\n",
      "[accelerated_search_for_good_permutation] input matrix shape: '(128, 784)'.\n",
      "[accelerated_search_for_good_permutation] the permutation strategy is: 'exhaustive search'.\n",
      "[accelerated_search_for_good_permutation] Take 2.3084 seconds to search the permutation sequence.\n",
      "[search_for_good_permutation] Take 2.3104 seconds to finish accelerated_search_for_good_permutation function with final magnitude 1288.92822265625.\n",
      "\n",
      "[search_for_good_permutation] this unique_siblings_group has 1 real siblings: '['.2']', with module type: '['torch.nn.modules.linear.Linear']'.\n",
      "[search_for_good_permutation] try to merge the weight for node: '.2', with module type: 'torch.nn.modules.linear.Linear'.\n",
      "[search_for_good_permutation] cannot find the node: '.2' in cls.__sparse_parameters, no need to merge its weight for permutation.\n",
      "\n",
      "[search_for_good_permutation] init the all-zero list with length '0' for permutation search sequence of this unique_siblings_group.\n",
      "[search_for_good_permutation] no need to search the permutation_sequence for empty matrix_group.\n",
      "\n",
      "[build_offline_permutation_graph] Take 2.4312 seconds to finish search_for_good_permutation function.\n",
      "\n",
      "[compute_sparse_masks] build offline permutation graph on none-distributed model.\n",
      "[compute_sparse_masks] Take 2.4374 seconds to finish build_offline_permutation_graph function.\n",
      "\n",
      "[apply_offline_permutation] Offline permutation for each node according to the the whole network graph built with Torch.FX\n",
      "\n",
      "[apply_offline_permutation] node_name: '.0', node module type: 'torch.nn.modules.linear.Linear', need to do offline permutation in C dim.\n",
      "[apply_permutation_in_C_dim] Permutation for node: '.0' in C dim\n",
      "[apply_permutation_in_C_dim] find the node: '.0' in cls.__sparse_parameters, succeed to apply permutation in C dim.\n",
      "\n",
      "[compute_sparse_masks] apply offline permutation on none-distributed model.\n",
      "[compute_sparse_masks] Take 0.0006 seconds to finish apply_offline_permutation function.\n",
      "\n",
      "[ASP] Enabled 50.00% sparsity for 0::weight of size=torch.Size([128, 784]) and type=torch.float32\n"
     ]
    }
   ],
   "source": [
    "ASP.init_model_for_pruning(mlpNet, \"m4n2_1d\", allow_recompute_mask=True, verbosity=3)\n",
    "ASP.compute_sparse_masks()"
   ]
  },
  {
   "cell_type": "code",
   "execution_count": 8,
   "metadata": {},
   "outputs": [
    {
     "data": {
      "image/png": "[encoded data removed]",
      "text/plain": [
       "<Figure size 480x480 with 2 Axes>"
      ]
     },
     "metadata": {},
     "output_type": "display_data"
    }
   ],
   "source": [
    "# mlpNet.state_dict()\n",
    "Linear_1 = mlpNet.state_dict()['0.weight'].cpu()\n",
    "L_1 = Linear_1[:16, :16]\n",
    "plt.Figure(figsize=(30,30))\n",
    "plt.matshow(L_1)\n",
    "plt.colorbar()\n",
    "plt.show()"
   ]
  }
 ],
 "metadata": {
  "kernelspec": {
   "display_name": "Python 3.9.15 ('pytorch')",
   "language": "python",
   "name": "python3"
  },
  "language_info": {
   "codemirror_mode": {
    "name": "ipython",
    "version": 3
   },
   "file_extension": ".py",
   "mimetype": "text/x-python",
   "name": "python",
   "nbconvert_exporter": "python",
   "pygments_lexer": "ipython3",
   "version": "3.9.15"
  },
  "orig_nbformat": 4,
  "vscode": {
   "interpreter": {
    "hash": "8205f6ce979d5c7d4df02561d45da4666113a2854ce10251edc8b3bc4440920d"
   }
  }
 },
 "nbformat": 4,
 "nbformat_minor": 2
}
