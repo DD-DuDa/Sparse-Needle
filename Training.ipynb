{
 "cells": [
  {
   "cell_type": "code",
   "execution_count": 1,
   "id": "8830d796-77d5-4fd1-9364-5efc059b3052",
   "metadata": {},
   "outputs": [
    {
     "name": "stderr",
     "output_type": "stream",
     "text": [
      "/home/dudayou/miniconda3/envs/pytorch/lib/python3.9/site-packages/tqdm/auto.py:22: TqdmWarning: IProgress not found. Please update jupyter and ipywidgets. See https://ipywidgets.readthedocs.io/en/stable/user_install.html\n",
      "  from .autonotebook import tqdm as notebook_tqdm\n"
     ]
    }
   ],
   "source": [
    "import sys\n",
    "sys.path.append('./python')\n",
    "\n",
    "import numpy as np\n",
    "import pytest\n",
    "import needle as ndl\n",
    "from needle import backend_ndarray as nd\n",
    "import needle.nn as nn\n",
    "import needle.optim as optim\n",
    "from needle import data as ndldata\n",
    "import needle.init as init\n",
    "import needle.ops as ops\n",
    "import time\n",
    "from tqdm import tqdm\n",
    "\n",
    "np.random.seed(4)"
   ]
  },
  {
   "cell_type": "markdown",
   "id": "ea96e248-fb4c-4c03-8a4e-ce25369c75e7",
   "metadata": {},
   "source": [
    "# Matmul test - CPU VS GPU\n",
    "\n",
    "todo: gpu显存不会释放"
   ]
  },
  {
   "cell_type": "code",
   "execution_count": 2,
   "id": "8821e89b-5409-458c-b1ff-0f124c080d6b",
   "metadata": {},
   "outputs": [
    {
     "name": "stdout",
     "output_type": "stream",
     "text": [
      "time of cpu: 0.882286548614502\n"
     ]
    }
   ],
   "source": [
    "matmul_dims = (5000, 5000, 5000)\n",
    "\n",
    "m = matmul_dims[0]\n",
    "n = matmul_dims[1]\n",
    "p = matmul_dims[2]\n",
    "\n",
    "_A = np.random.randn(m, n)\n",
    "_B = np.random.randn(n, p)\n",
    "\n",
    "st = time.time()\n",
    "_S = _A @ _B\n",
    "ed = time.time()\n",
    "total = ed - st\n",
    "\n",
    "print(\"time of cpu:\", total)"
   ]
  },
  {
   "cell_type": "code",
   "execution_count": 6,
   "id": "4dde3753",
   "metadata": {},
   "outputs": [
    {
     "name": "stdout",
     "output_type": "stream",
     "text": [
      "time of gpu: 0.01257777214050293\n"
     ]
    }
   ],
   "source": [
    "A = nd.array(_A, device = nd.cuda())\n",
    "B = nd.array(_B, device = nd.cuda())\n",
    "\n",
    "st = time.time()\n",
    "S = A @ B\n",
    "ed = time.time()\n",
    "total = ed - st\n",
    "\n",
    "print(\"time of gpu:\", total) # 0.0013"
   ]
  },
  {
   "cell_type": "markdown",
   "id": "b646eac9-30f4-4157-b9dd-557e15f1fb6b",
   "metadata": {},
   "source": [
    "# Training MNIST On CPU"
   ]
  },
  {
   "cell_type": "code",
   "execution_count": 2,
   "id": "d2643d2f-4aa9-47b4-b250-3b8c1a0ea60b",
   "metadata": {},
   "outputs": [],
   "source": [
    "# model\n",
    "def MLPNet(dim, hidden_dim=100, num_classes=10, device=ndl.cpu_numpy()):\n",
    "    ### BEGIN YOUR SOLUTION\n",
    "    mlpNet = nn.Sequential(\n",
    "        nn.Linear(in_features=dim, out_features=hidden_dim, device=device), \n",
    "        nn.ReLU(), \n",
    "        nn.Linear(in_features=hidden_dim, out_features=num_classes, device=device))\n",
    "    return mlpNet\n",
    "\n",
    "BATCH_SIZE = 100\n",
    "HIDDEN_DIM = 100\n",
    "\n",
    "mnist_train_dataset = ndldata.MNISTDataset(\"data/train-images-idx3-ubyte.gz\",\n",
    "                                            \"data/train-labels-idx1-ubyte.gz\")\n",
    "\n",
    "mnist_train_dataloader = ndldata.DataLoader(dataset=mnist_train_dataset,\n",
    "                                                 batch_size=BATCH_SIZE,\n",
    "                                                 shuffle=True)\n",
    "\n",
    "mnist_test_dataset = ndldata.MNISTDataset(\"data/t10k-images-idx3-ubyte.gz\",\n",
    "                                               \"data/t10k-labels-idx1-ubyte.gz\")\n",
    "\n",
    "mnist_test_dataloader = ndldata.DataLoader(dataset=mnist_test_dataset,\n",
    "                                            batch_size=BATCH_SIZE,\n",
    "                                            shuffle=False)\n",
    "\n"
   ]
  },
  {
   "cell_type": "code",
   "execution_count": 5,
   "id": "f434964e-b26f-4cf2-8357-b80635fb5721",
   "metadata": {
    "scrolled": true,
    "tags": []
   },
   "outputs": [],
   "source": [
    "def train_CPU(n_epochs, optimizer, model, loss_fn, train_loader):\n",
    "    model.train()\n",
    "    for epoch in range(1, n_epochs + 1):\n",
    "        n_sample, correct = 0, 0\n",
    "        loss_list = []\n",
    "        acc_list = []\n",
    "        for i, batch in tqdm(enumerate(train_loader)):\n",
    "            x, y = batch[0], batch[1]\n",
    "            x = x.reshape((x.shape[0], -1))\n",
    "            y_hat = model(x)\n",
    "\n",
    "            loss = loss_fn(y_hat, y)\n",
    "            loss_list.append(loss.cached_data.numpy())\n",
    "\n",
    "            logit = nd.NDArray(np.argmax(y_hat.cached_data.numpy(), axis=1))\n",
    "            correct += np.sum((logit == y.cached_data).numpy().astype('int'))\n",
    "\n",
    "            n_sample += x.shape[0]\n",
    "            acc_list.append(correct / x.shape[0])\n",
    "\n",
    "            opt.reset_grad()\n",
    "            loss.backward()\n",
    "            opt.step()\n",
    "    \n",
    "            acc, loss = correct/n_sample, np.mean(loss_list)\n",
    "        print('Epoch {} - loss {} - acc {}'.format(epoch, loss, acc))\n",
    "\n",
    "\n",
    "model = MLPNet(784, HIDDEN_DIM)\n",
    "loss_fn = nn.SoftmaxLoss()\n",
    "opt = optim.Adam(model.parameters(), lr=0.001, weight_decay=0.001)"
   ]
  },
  {
   "cell_type": "code",
   "execution_count": 6,
   "id": "9a684810-8fb4-46f6-9439-31154749f67a",
   "metadata": {},
   "outputs": [
    {
     "name": "stderr",
     "output_type": "stream",
     "text": [
      "600it [00:05, 107.71it/s]\n"
     ]
    },
    {
     "name": "stdout",
     "output_type": "stream",
     "text": [
      "Epoch 1 - loss 0.3711097538471222 - acc 0.8967666666666667\n"
     ]
    },
    {
     "name": "stderr",
     "output_type": "stream",
     "text": [
      "600it [00:05, 104.80it/s]\n"
     ]
    },
    {
     "name": "stdout",
     "output_type": "stream",
     "text": [
      "Epoch 2 - loss 0.18391425907611847 - acc 0.94865\n"
     ]
    },
    {
     "name": "stderr",
     "output_type": "stream",
     "text": [
      "600it [00:05, 109.75it/s]\n"
     ]
    },
    {
     "name": "stdout",
     "output_type": "stream",
     "text": [
      "Epoch 3 - loss 0.14476287364959717 - acc 0.9604833333333334\n"
     ]
    },
    {
     "name": "stderr",
     "output_type": "stream",
     "text": [
      "600it [00:05, 106.82it/s]\n"
     ]
    },
    {
     "name": "stdout",
     "output_type": "stream",
     "text": [
      "Epoch 4 - loss 0.12549129128456116 - acc 0.9660666666666666\n"
     ]
    },
    {
     "name": "stderr",
     "output_type": "stream",
     "text": [
      "600it [00:05, 109.27it/s]"
     ]
    },
    {
     "name": "stdout",
     "output_type": "stream",
     "text": [
      "Epoch 5 - loss 0.1112636849284172 - acc 0.9701166666666666\n"
     ]
    },
    {
     "name": "stderr",
     "output_type": "stream",
     "text": [
      "\n"
     ]
    }
   ],
   "source": [
    "train_CPU(n_epochs = 5, optimizer = opt, model = model, loss_fn = loss_fn, train_loader = mnist_train_dataloader)"
   ]
  },
  {
   "cell_type": "markdown",
   "id": "be92f1ab-f0c5-4ea7-b724-5c4bbce87ded",
   "metadata": {},
   "source": [
    "# Training MNIST On GPU"
   ]
  },
  {
   "cell_type": "code",
   "execution_count": 1,
   "id": "503e53ef-c377-4cb8-8024-9a866de8f07c",
   "metadata": {
    "scrolled": true,
    "tags": []
   },
   "outputs": [
    {
     "name": "stderr",
     "output_type": "stream",
     "text": [
      "/home/dudayou/miniconda3/envs/pytorch/lib/python3.9/site-packages/tqdm/auto.py:22: TqdmWarning: IProgress not found. Please update jupyter and ipywidgets. See https://ipywidgets.readthedocs.io/en/stable/user_install.html\n",
      "  from .autonotebook import tqdm as notebook_tqdm\n"
     ]
    }
   ],
   "source": [
    "import sys\n",
    "sys.path.append('./python')\n",
    "\n",
    "import numpy as np\n",
    "import pytest\n",
    "import needle as ndl\n",
    "from needle import backend_ndarray as nd\n",
    "import needle.nn as nn\n",
    "import needle.optim as optim\n",
    "from needle import data as ndldata\n",
    "import needle.init as init\n",
    "import needle.ops as ops\n",
    "import time\n",
    "from tqdm import tqdm\n",
    "\n",
    "np.random.seed(4)\n",
    "\n",
    "# model\n",
    "def MLPNet(dim, hidden_dim=100, num_classes=10, device=ndl.cpu_numpy()):\n",
    "    ### BEGIN YOUR SOLUTION\n",
    "    mlpNet = nn.Sequential(\n",
    "        nn.Linear(in_features=dim, out_features=hidden_dim, device=device), \n",
    "        nn.ReLU(), \n",
    "        nn.Linear(in_features=hidden_dim, out_features=num_classes, device=device))\n",
    "    return mlpNet\n",
    "\n",
    "BATCH_SIZE = 100\n",
    "HIDDEN_DIM = 100\n",
    "\n",
    "mnist_train_dataset = ndldata.MNISTDataset(\"data/train-images-idx3-ubyte.gz\",\n",
    "                                            \"data/train-labels-idx1-ubyte.gz\")\n",
    "\n",
    "mnist_train_dataloader = ndldata.DataLoader(dataset=mnist_train_dataset,\n",
    "                                                 batch_size=128,\n",
    "                                                 shuffle=True)\n",
    "\n",
    "def train_GPU(n_epochs, optimizer, model, loss_fn, train_loader):\n",
    "    model.train()\n",
    "    for epoch in range(1, n_epochs + 1):\n",
    "        n_sample, correct = 0, 0\n",
    "        loss_list = []\n",
    "        acc_list = []\n",
    "        for i, batch in tqdm(enumerate(train_loader)):\n",
    "            x, y = batch[0], batch[1]\n",
    "            gx = x.cuda()\n",
    "            gy = y.cuda()\n",
    "            gx = gx.reshape((gx.shape[0], -1))\n",
    "            y_hat = model(gx)\n",
    "\n",
    "            loss = loss_fn(y_hat, gy)\n",
    "            loss_list.append(loss.cached_data.numpy())\n",
    "\n",
    "            logit = nd.array(np.argmax(y_hat.cached_data.numpy(), axis=1), device = ndl.cuda())\n",
    "            # print(logit.device)\n",
    "            # print(y.cached_data.device)\n",
    "            correct += np.sum((logit == gy.cached_data).numpy().astype('int'))\n",
    "\n",
    "            n_sample += gx.shape[0]\n",
    "            acc_list.append(correct / x.shape[0])\n",
    "\n",
    "            opt.reset_grad()\n",
    "            loss.backward()\n",
    "            opt.step()\n",
    "    \n",
    "            acc, loss = correct/n_sample, np.mean(loss_list)\n",
    "        print('Epoch {} - loss {} - acc {}'.format(epoch, loss, acc))"
   ]
  },
  {
   "cell_type": "code",
   "execution_count": 2,
   "id": "02ba6705-d386-481a-9da2-858d5e554cd0",
   "metadata": {},
   "outputs": [
    {
     "name": "stderr",
     "output_type": "stream",
     "text": [
      "469it [00:02, 159.30it/s]\n"
     ]
    },
    {
     "name": "stdout",
     "output_type": "stream",
     "text": [
      "Epoch 1 - loss 0.3852233588695526 - acc 0.89455\n"
     ]
    },
    {
     "name": "stderr",
     "output_type": "stream",
     "text": [
      "469it [00:02, 164.79it/s]\n"
     ]
    },
    {
     "name": "stdout",
     "output_type": "stream",
     "text": [
      "Epoch 2 - loss 0.18729496002197266 - acc 0.9473\n"
     ]
    },
    {
     "name": "stderr",
     "output_type": "stream",
     "text": [
      "469it [00:02, 164.59it/s]\n"
     ]
    },
    {
     "name": "stdout",
     "output_type": "stream",
     "text": [
      "Epoch 3 - loss 0.1499415785074234 - acc 0.9582666666666667\n"
     ]
    },
    {
     "name": "stderr",
     "output_type": "stream",
     "text": [
      "469it [00:02, 164.44it/s]\n"
     ]
    },
    {
     "name": "stdout",
     "output_type": "stream",
     "text": [
      "Epoch 4 - loss 0.1293514370918274 - acc 0.9643\n"
     ]
    },
    {
     "name": "stderr",
     "output_type": "stream",
     "text": [
      "469it [00:02, 163.33it/s]"
     ]
    },
    {
     "name": "stdout",
     "output_type": "stream",
     "text": [
      "Epoch 5 - loss 0.11657559126615524 - acc 0.9679833333333333\n"
     ]
    },
    {
     "name": "stderr",
     "output_type": "stream",
     "text": [
      "\n"
     ]
    }
   ],
   "source": [
    "# Training\n",
    "gmodel = MLPNet(784, HIDDEN_DIM, device=ndl.cuda())\n",
    "loss_fn = nn.SoftmaxLoss()\n",
    "opt = optim.Adam(gmodel.parameters(), lr=0.001, weight_decay=0.001)\n",
    "\n",
    "train_GPU(n_epochs = 5, optimizer = opt, model = gmodel, loss_fn = loss_fn, train_loader = mnist_train_dataloader)"
   ]
  },
  {
   "cell_type": "code",
   "execution_count": 3,
   "id": "6a50087e",
   "metadata": {},
   "outputs": [],
   "source": [
    "# save checkpoint and new_model load\n",
    "ndl.save('./weights/gmodel_5epoch', gmodel.state_dict())\n",
    "\n",
    "gmodel_new = MLPNet(784, HIDDEN_DIM, device=ndl.cuda())\n",
    "gmodel_ckpt = ndl.load('./weights/gmodel_5epoch', device=ndl.cuda())\n",
    "gmodel_new.load_state_dict(gmodel_ckpt)"
   ]
  },
  {
   "cell_type": "code",
   "execution_count": 4,
   "id": "0c5e2055",
   "metadata": {},
   "outputs": [
    {
     "name": "stderr",
     "output_type": "stream",
     "text": [
      "469it [00:02, 161.72it/s]\n"
     ]
    },
    {
     "name": "stdout",
     "output_type": "stream",
     "text": [
      "Epoch 1 - loss 0.10929657518863678 - acc 0.9702166666666666\n"
     ]
    },
    {
     "name": "stderr",
     "output_type": "stream",
     "text": [
      "469it [00:02, 161.81it/s]\n"
     ]
    },
    {
     "name": "stdout",
     "output_type": "stream",
     "text": [
      "Epoch 2 - loss 0.10059221088886261 - acc 0.9733333333333334\n"
     ]
    },
    {
     "name": "stderr",
     "output_type": "stream",
     "text": [
      "469it [00:02, 160.85it/s]\n"
     ]
    },
    {
     "name": "stdout",
     "output_type": "stream",
     "text": [
      "Epoch 3 - loss 0.09576782584190369 - acc 0.9743166666666667\n"
     ]
    },
    {
     "name": "stderr",
     "output_type": "stream",
     "text": [
      "469it [00:02, 160.65it/s]\n"
     ]
    },
    {
     "name": "stdout",
     "output_type": "stream",
     "text": [
      "Epoch 4 - loss 0.09267044812440872 - acc 0.97505\n"
     ]
    },
    {
     "name": "stderr",
     "output_type": "stream",
     "text": [
      "469it [00:02, 156.81it/s]"
     ]
    },
    {
     "name": "stdout",
     "output_type": "stream",
     "text": [
      "Epoch 5 - loss 0.09021073579788208 - acc 0.97635\n"
     ]
    },
    {
     "name": "stderr",
     "output_type": "stream",
     "text": [
      "\n"
     ]
    }
   ],
   "source": [
    "# Transfer training\n",
    "loss_fn = nn.SoftmaxLoss()\n",
    "opt = optim.Adam(gmodel_new.parameters(), lr=0.001, weight_decay=0.001)\n",
    "\n",
    "train_GPU(n_epochs = 5, optimizer = opt, model = gmodel_new, loss_fn = loss_fn, train_loader = mnist_train_dataloader)"
   ]
  }
 ],
 "metadata": {
  "kernelspec": {
   "display_name": "Python 3.9.15 ('pytorch')",
   "language": "python",
   "name": "python3"
  },
  "language_info": {
   "codemirror_mode": {
    "name": "ipython",
    "version": 3
   },
   "file_extension": ".py",
   "mimetype": "text/x-python",
   "name": "python",
   "nbconvert_exporter": "python",
   "pygments_lexer": "ipython3",
   "version": "3.9.15"
  },
  "vscode": {
   "interpreter": {
    "hash": "8205f6ce979d5c7d4df02561d45da4666113a2854ce10251edc8b3bc4440920d"
   }
  }
 },
 "nbformat": 4,
 "nbformat_minor": 5
}
