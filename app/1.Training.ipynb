{
 "cells": [
  {
   "cell_type": "code",
   "execution_count": 1,
   "id": "8830d796-77d5-4fd1-9364-5efc059b3052",
   "metadata": {},
   "outputs": [
    {
     "name": "stderr",
     "output_type": "stream",
     "text": [
      "/home/dudayou/miniconda3/envs/pytorch/lib/python3.9/site-packages/tqdm/auto.py:22: TqdmWarning: IProgress not found. Please update jupyter and ipywidgets. See https://ipywidgets.readthedocs.io/en/stable/user_install.html\n",
      "  from .autonotebook import tqdm as notebook_tqdm\n"
     ]
    }
   ],
   "source": [
    "import sys\n",
    "sys.path.append('../python')\n",
    "\n",
    "import numpy as np\n",
    "import pytest\n",
    "import needle as ndl\n",
    "from needle import backend_ndarray as nd\n",
    "import needle.nn as nn\n",
    "import needle.optim as optim\n",
    "from needle import data as ndldata\n",
    "import needle.init as init\n",
    "import needle.ops as ops\n",
    "import time\n",
    "from tqdm import tqdm\n",
    "\n",
    "np.random.seed(4)"
   ]
  },
  {
   "cell_type": "markdown",
   "id": "ea96e248-fb4c-4c03-8a4e-ce25369c75e7",
   "metadata": {},
   "source": [
    "# Matmul test - CPU VS GPU\n",
    "\n",
    "todo: gpu显存不会释放"
   ]
  },
  {
   "cell_type": "code",
   "execution_count": 2,
   "id": "8821e89b-5409-458c-b1ff-0f124c080d6b",
   "metadata": {},
   "outputs": [
    {
     "name": "stdout",
     "output_type": "stream",
     "text": [
      "time of cpu: 0.8920676708221436\n"
     ]
    }
   ],
   "source": [
    "matmul_dims = (5000, 5000, 5000)\n",
    "\n",
    "m = matmul_dims[0]\n",
    "n = matmul_dims[1]\n",
    "p = matmul_dims[2]\n",
    "\n",
    "_A = np.random.randn(m, n)\n",
    "_B = np.random.randn(n, p)\n",
    "\n",
    "st = time.time()\n",
    "_S = _A @ _B\n",
    "ed = time.time()\n",
    "total = ed - st\n",
    "\n",
    "print(\"time of cpu:\", total)"
   ]
  },
  {
   "cell_type": "code",
   "execution_count": 3,
   "id": "4dde3753",
   "metadata": {},
   "outputs": [
    {
     "name": "stdout",
     "output_type": "stream",
     "text": [
      "time of gpu:Matmul in cuda\n",
      " 0.0007078647613525391\n"
     ]
    }
   ],
   "source": [
    "A = nd.array(_A, device = nd.cuda())\n",
    "B = nd.array(_B, device = nd.cuda())\n",
    "\n",
    "st = time.time()\n",
    "S = A @ B\n",
    "ed = time.time()\n",
    "total = ed - st\n",
    "\n",
    "print(\"time of gpu:\", total) # 0.0013"
   ]
  },
  {
   "cell_type": "markdown",
   "id": "b646eac9-30f4-4157-b9dd-557e15f1fb6b",
   "metadata": {},
   "source": [
    "# Training MNIST On CPU"
   ]
  },
  {
   "cell_type": "code",
   "execution_count": 5,
   "id": "d2643d2f-4aa9-47b4-b250-3b8c1a0ea60b",
   "metadata": {},
   "outputs": [],
   "source": [
    "# model\n",
    "def MLPNet(dim, hidden_dim=100, num_classes=10, device=ndl.cpu_numpy()):\n",
    "    ### BEGIN YOUR SOLUTION\n",
    "    mlpNet = nn.Sequential(\n",
    "        nn.Linear(in_features=dim, out_features=hidden_dim, device=device), \n",
    "        nn.ReLU(), \n",
    "        nn.Linear(in_features=hidden_dim, out_features=num_classes, device=device))\n",
    "    return mlpNet\n",
    "\n",
    "BATCH_SIZE = 128\n",
    "HIDDEN_DIM = 128\n",
    "\n",
    "mnist_train_dataset = ndldata.MNISTDataset(\"../data/train-images-idx3-ubyte.gz\",\n",
    "                                            \"../data/train-labels-idx1-ubyte.gz\")\n",
    "\n",
    "mnist_train_dataloader = ndldata.DataLoader(dataset=mnist_train_dataset,\n",
    "                                                 batch_size=BATCH_SIZE,\n",
    "                                                 shuffle=True)\n",
    "\n",
    "mnist_test_dataset = ndldata.MNISTDataset(\"../data/t10k-images-idx3-ubyte.gz\",\n",
    "                                               \"../data/t10k-labels-idx1-ubyte.gz\")\n",
    "\n",
    "mnist_test_dataloader = ndldata.DataLoader(dataset=mnist_test_dataset,\n",
    "                                            batch_size=BATCH_SIZE,\n",
    "                                            shuffle=False)\n",
    "\n"
   ]
  },
  {
   "cell_type": "code",
   "execution_count": 5,
   "id": "f434964e-b26f-4cf2-8357-b80635fb5721",
   "metadata": {
    "scrolled": true,
    "tags": []
   },
   "outputs": [],
   "source": [
    "def train_CPU(n_epochs, optimizer, model, loss_fn, train_loader):\n",
    "    model.train()\n",
    "    for epoch in range(1, n_epochs + 1):\n",
    "        n_sample, correct = 0, 0\n",
    "        loss_list = []\n",
    "        acc_list = []\n",
    "        for i, batch in tqdm(enumerate(train_loader)):\n",
    "            x, y = batch[0], batch[1]\n",
    "            x = x.reshape((x.shape[0], -1))\n",
    "            y_hat = model(x)\n",
    "\n",
    "            loss = loss_fn(y_hat, y)\n",
    "            loss_list.append(loss.cached_data.numpy())\n",
    "\n",
    "            logit = nd.NDArray(np.argmax(y_hat.cached_data.numpy(), axis=1))\n",
    "            correct += np.sum((logit == y.cached_data).numpy().astype('int'))\n",
    "\n",
    "            n_sample += x.shape[0]\n",
    "            acc_list.append(correct / x.shape[0])\n",
    "\n",
    "            opt.reset_grad()\n",
    "            loss.backward()\n",
    "            opt.step()\n",
    "    \n",
    "            acc, loss = correct/n_sample, np.mean(loss_list)\n",
    "        print('Epoch {} - loss {} - acc {}'.format(epoch, loss, acc))\n",
    "\n",
    "\n",
    "model = MLPNet(784, HIDDEN_DIM)\n",
    "loss_fn = nn.SoftmaxLoss()\n",
    "opt = optim.Adam(model.parameters(), lr=0.001, weight_decay=0.001)"
   ]
  },
  {
   "cell_type": "code",
   "execution_count": 6,
   "id": "9a684810-8fb4-46f6-9439-31154749f67a",
   "metadata": {},
   "outputs": [
    {
     "name": "stderr",
     "output_type": "stream",
     "text": [
      "600it [00:05, 107.71it/s]\n"
     ]
    },
    {
     "name": "stdout",
     "output_type": "stream",
     "text": [
      "Epoch 1 - loss 0.3711097538471222 - acc 0.8967666666666667\n"
     ]
    },
    {
     "name": "stderr",
     "output_type": "stream",
     "text": [
      "600it [00:05, 104.80it/s]\n"
     ]
    },
    {
     "name": "stdout",
     "output_type": "stream",
     "text": [
      "Epoch 2 - loss 0.18391425907611847 - acc 0.94865\n"
     ]
    },
    {
     "name": "stderr",
     "output_type": "stream",
     "text": [
      "600it [00:05, 109.75it/s]\n"
     ]
    },
    {
     "name": "stdout",
     "output_type": "stream",
     "text": [
      "Epoch 3 - loss 0.14476287364959717 - acc 0.9604833333333334\n"
     ]
    },
    {
     "name": "stderr",
     "output_type": "stream",
     "text": [
      "600it [00:05, 106.82it/s]\n"
     ]
    },
    {
     "name": "stdout",
     "output_type": "stream",
     "text": [
      "Epoch 4 - loss 0.12549129128456116 - acc 0.9660666666666666\n"
     ]
    },
    {
     "name": "stderr",
     "output_type": "stream",
     "text": [
      "600it [00:05, 109.27it/s]"
     ]
    },
    {
     "name": "stdout",
     "output_type": "stream",
     "text": [
      "Epoch 5 - loss 0.1112636849284172 - acc 0.9701166666666666\n"
     ]
    },
    {
     "name": "stderr",
     "output_type": "stream",
     "text": [
      "\n"
     ]
    }
   ],
   "source": [
    "train_CPU(n_epochs = 5, optimizer = opt, model = model, loss_fn = loss_fn, train_loader = mnist_train_dataloader)"
   ]
  },
  {
   "cell_type": "markdown",
   "id": "be92f1ab-f0c5-4ea7-b724-5c4bbce87ded",
   "metadata": {},
   "source": [
    "# Training MNIST On GPU"
   ]
  },
  {
   "cell_type": "code",
   "execution_count": 6,
   "id": "503e53ef-c377-4cb8-8024-9a866de8f07c",
   "metadata": {
    "scrolled": true,
    "tags": []
   },
   "outputs": [],
   "source": [
    "def train_GPU(n_epochs, optimizer, model, loss_fn, train_loader):\n",
    "    model.train()\n",
    "    for epoch in range(1, n_epochs + 1):\n",
    "        n_sample, correct = 0, 0\n",
    "        loss_list = []\n",
    "        acc_list = []\n",
    "        for i, batch in tqdm(enumerate(train_loader)):\n",
    "            x, y = batch[0], batch[1]\n",
    "            gx = x.cuda()\n",
    "            gy = y.cuda()\n",
    "            gx = gx.reshape((gx.shape[0], -1))\n",
    "            y_hat = model(gx)\n",
    "\n",
    "            loss = loss_fn(y_hat, gy)\n",
    "            loss_list.append(loss.cached_data.numpy())\n",
    "\n",
    "            logit = nd.array(np.argmax(y_hat.cached_data.numpy(), axis=1), device = ndl.cuda())\n",
    "            # print(logit.device)\n",
    "            # print(y.cached_data.device)\n",
    "            correct += np.sum((logit == gy.cached_data).numpy().astype('int'))\n",
    "\n",
    "            n_sample += gx.shape[0]\n",
    "            acc_list.append(correct / x.shape[0])\n",
    "\n",
    "            opt.reset_grad()\n",
    "            loss.backward()\n",
    "            opt.step()\n",
    "    \n",
    "            acc, loss = correct/n_sample, np.mean(loss_list)\n",
    "        print('Epoch {} - loss {} - acc {}'.format(epoch, loss, acc))"
   ]
  },
  {
   "cell_type": "code",
   "execution_count": 7,
   "id": "02ba6705-d386-481a-9da2-858d5e554cd0",
   "metadata": {},
   "outputs": [
    {
     "name": "stderr",
     "output_type": "stream",
     "text": [
      "469it [00:02, 169.86it/s]\n"
     ]
    },
    {
     "name": "stdout",
     "output_type": "stream",
     "text": [
      "Epoch 1 - loss 0.3680546283721924 - acc 0.8983166666666667\n"
     ]
    },
    {
     "name": "stderr",
     "output_type": "stream",
     "text": [
      "469it [00:02, 161.14it/s]\n"
     ]
    },
    {
     "name": "stdout",
     "output_type": "stream",
     "text": [
      "Epoch 2 - loss 0.18331126868724823 - acc 0.9488333333333333\n"
     ]
    },
    {
     "name": "stderr",
     "output_type": "stream",
     "text": [
      "469it [00:02, 169.80it/s]\n"
     ]
    },
    {
     "name": "stdout",
     "output_type": "stream",
     "text": [
      "Epoch 3 - loss 0.14350640773773193 - acc 0.96025\n"
     ]
    },
    {
     "name": "stderr",
     "output_type": "stream",
     "text": [
      "469it [00:02, 169.53it/s]\n"
     ]
    },
    {
     "name": "stdout",
     "output_type": "stream",
     "text": [
      "Epoch 4 - loss 0.12295915931463242 - acc 0.9663\n"
     ]
    },
    {
     "name": "stderr",
     "output_type": "stream",
     "text": [
      "469it [00:02, 169.21it/s]"
     ]
    },
    {
     "name": "stdout",
     "output_type": "stream",
     "text": [
      "Epoch 5 - loss 0.10964653640985489 - acc 0.97045\n"
     ]
    },
    {
     "name": "stderr",
     "output_type": "stream",
     "text": [
      "\n"
     ]
    }
   ],
   "source": [
    "# Training\n",
    "gmodel = MLPNet(784, HIDDEN_DIM, device=ndl.cuda())\n",
    "loss_fn = nn.SoftmaxLoss()\n",
    "opt = optim.Adam(gmodel.parameters(), lr=0.001, weight_decay=0.001)\n",
    "\n",
    "train_GPU(n_epochs = 5, optimizer = opt, model = gmodel, loss_fn = loss_fn, train_loader = mnist_train_dataloader)"
   ]
  },
  {
   "cell_type": "code",
   "execution_count": 15,
   "id": "6a50087e",
   "metadata": {},
   "outputs": [],
   "source": [
    "# save checkpoint and new_model load\n",
    "ndl.save('../weights/gmodel_5epoch.pkl', gmodel.state_dict())\n",
    "\n",
    "gmodel_new = MLPNet(784, HIDDEN_DIM, device=ndl.cuda())\n",
    "gmodel_ckpt = ndl.load('../weights/gmodel_5epoch.pkl', device=ndl.cuda())\n",
    "gmodel_new.load_state_dict(gmodel_ckpt)"
   ]
  },
  {
   "cell_type": "code",
   "execution_count": 16,
   "id": "0c5e2055",
   "metadata": {},
   "outputs": [
    {
     "name": "stderr",
     "output_type": "stream",
     "text": [
      "469it [00:02, 165.12it/s]\n"
     ]
    },
    {
     "name": "stdout",
     "output_type": "stream",
     "text": [
      "Epoch 1 - loss 0.10317090153694153 - acc 0.9722333333333333\n"
     ]
    },
    {
     "name": "stderr",
     "output_type": "stream",
     "text": [
      "469it [00:02, 156.34it/s]\n"
     ]
    },
    {
     "name": "stdout",
     "output_type": "stream",
     "text": [
      "Epoch 2 - loss 0.09669891744852066 - acc 0.9737666666666667\n"
     ]
    },
    {
     "name": "stderr",
     "output_type": "stream",
     "text": [
      "469it [00:02, 168.58it/s]\n"
     ]
    },
    {
     "name": "stdout",
     "output_type": "stream",
     "text": [
      "Epoch 3 - loss 0.09134496003389359 - acc 0.9758166666666667\n"
     ]
    },
    {
     "name": "stderr",
     "output_type": "stream",
     "text": [
      "469it [00:02, 168.47it/s]\n"
     ]
    },
    {
     "name": "stdout",
     "output_type": "stream",
     "text": [
      "Epoch 4 - loss 0.08794830739498138 - acc 0.97735\n"
     ]
    },
    {
     "name": "stderr",
     "output_type": "stream",
     "text": [
      "469it [00:02, 167.27it/s]"
     ]
    },
    {
     "name": "stdout",
     "output_type": "stream",
     "text": [
      "Epoch 5 - loss 0.08480016887187958 - acc 0.9777\n"
     ]
    },
    {
     "name": "stderr",
     "output_type": "stream",
     "text": [
      "\n"
     ]
    }
   ],
   "source": [
    "# Transfer training\n",
    "loss_fn = nn.SoftmaxLoss()\n",
    "opt = optim.Adam(gmodel_new.parameters(), lr=0.001, weight_decay=0.001)\n",
    "\n",
    "train_GPU(n_epochs = 5, optimizer = opt, model = gmodel_new, loss_fn = loss_fn, train_loader = mnist_train_dataloader)"
   ]
  },
  {
   "cell_type": "markdown",
   "id": "c09d6328",
   "metadata": {},
   "source": [
    "# Evaluation"
   ]
  },
  {
   "cell_type": "code",
   "execution_count": 13,
   "id": "d867a5fa",
   "metadata": {},
   "outputs": [],
   "source": [
    "def eval_GPU(model, test_loader):\n",
    "    model.eval()\n",
    "    n_sample, correct = 0, 0\n",
    "    acc_list = []\n",
    "    for i, batch in tqdm(enumerate(test_loader)):\n",
    "        x, y = batch[0], batch[1]\n",
    "        gx = x.cuda()\n",
    "        gy = y.cuda()\n",
    "        gx = gx.reshape((gx.shape[0], -1))\n",
    "        y_hat = model(gx)\n",
    "\n",
    "        logit = nd.array(np.argmax(y_hat.cached_data.numpy(), axis=1), device = ndl.cuda())\n",
    "        # print(logit.device)\n",
    "        # print(y.cached_data.device)\n",
    "        correct += np.sum((logit == gy.cached_data).numpy().astype('int'))\n",
    "\n",
    "        n_sample += gx.shape[0]\n",
    "        acc_list.append(correct / x.shape[0])\n",
    "\n",
    "    acc = correct/n_sample\n",
    "    print('acc {}'.format(acc))"
   ]
  },
  {
   "cell_type": "code",
   "execution_count": 14,
   "id": "e00a6205",
   "metadata": {},
   "outputs": [
    {
     "name": "stderr",
     "output_type": "stream",
     "text": [
      "79it [00:00, 1036.68it/s]"
     ]
    },
    {
     "name": "stdout",
     "output_type": "stream",
     "text": [
      "acc 0.969\n"
     ]
    },
    {
     "name": "stderr",
     "output_type": "stream",
     "text": [
      "\n"
     ]
    }
   ],
   "source": [
    "eval_GPU(gmodel, test_loader=mnist_test_dataloader)"
   ]
  },
  {
   "cell_type": "code",
   "execution_count": null,
   "id": "e86ca613",
   "metadata": {},
   "outputs": [],
   "source": []
  }
 ],
 "metadata": {
  "kernelspec": {
   "display_name": "Python 3.9.15 ('pytorch')",
   "language": "python",
   "name": "python3"
  },
  "language_info": {
   "codemirror_mode": {
    "name": "ipython",
    "version": 3
   },
   "file_extension": ".py",
   "mimetype": "text/x-python",
   "name": "python",
   "nbconvert_exporter": "python",
   "pygments_lexer": "ipython3",
   "version": "3.9.15"
  },
  "vscode": {
   "interpreter": {
    "hash": "8205f6ce979d5c7d4df02561d45da4666113a2854ce10251edc8b3bc4440920d"
   }
  }
 },
 "nbformat": 4,
 "nbformat_minor": 5
}
