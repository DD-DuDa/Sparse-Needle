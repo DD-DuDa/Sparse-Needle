{
 "cells": [
  {
   "cell_type": "code",
   "execution_count": 1,
   "metadata": {},
   "outputs": [
    {
     "name": "stderr",
     "output_type": "stream",
     "text": [
      "/home/dudayou/miniconda3/envs/pytorch/lib/python3.9/site-packages/tqdm/auto.py:22: TqdmWarning: IProgress not found. Please update jupyter and ipywidgets. See https://ipywidgets.readthedocs.io/en/stable/user_install.html\n",
      "  from .autonotebook import tqdm as notebook_tqdm\n"
     ]
    },
    {
     "name": "stdout",
     "output_type": "stream",
     "text": [
      "Found permutation search CUDA kernels\n",
      "[ASP][Info] permutation_search_kernels can be imported.\n"
     ]
    }
   ],
   "source": [
    "import sys\n",
    "sys.path.append('../python')\n",
    "\n",
    "import numpy as np\n",
    "import pytest\n",
    "import needle as ndl\n",
    "from needle import backend_ndarray as nd\n",
    "import needle.nn as nn\n",
    "import needle.optim as optim\n",
    "from needle import data as ndldata\n",
    "import needle.init as init\n",
    "import needle.ops as ops\n",
    "import time\n",
    "from needle.prune import model_to_sparse\n",
    "from tqdm import tqdm\n",
    "import matplotlib.pyplot as plt\n",
    "\n",
    "np.random.seed(4)"
   ]
  },
  {
   "cell_type": "code",
   "execution_count": 2,
   "metadata": {},
   "outputs": [],
   "source": [
    "BATCH_SIZE = 128\n",
    "HIDDEN_DIM = 256\n",
    "\n",
    "def MLPNet(dim, hidden_dim=100, num_classes=10, device=ndl.cpu_numpy()):\n",
    "    ### BEGIN YOUR SOLUTION\n",
    "    mlpNet = nn.Sequential(\n",
    "        nn.Linear(in_features=dim, out_features=hidden_dim, device=device), \n",
    "        nn.ReLU(), \n",
    "        nn.Linear(in_features=hidden_dim, out_features=128, device=device), \n",
    "        nn.ReLU(), \n",
    "        nn.Linear(in_features=128, out_features=64, device=device), \n",
    "        nn.ReLU(), \n",
    "        nn.Linear(in_features=64, out_features=num_classes, device=device))\n",
    "    return mlpNet\n",
    "\n",
    "\n",
    "\n",
    "mnist_train_dataset = ndldata.MNISTDataset(\"../data/train-images-idx3-ubyte.gz\",\n",
    "                                            \"../data/train-labels-idx1-ubyte.gz\")\n",
    "\n",
    "mnist_train_dataloader = ndldata.DataLoader(dataset=mnist_train_dataset,\n",
    "                                                 batch_size=BATCH_SIZE,\n",
    "                                                 shuffle=True)\n",
    "\n",
    "mnist_test_dataset = ndldata.MNISTDataset(\"../data/t10k-images-idx3-ubyte.gz\",\n",
    "                                               \"../data/t10k-labels-idx1-ubyte.gz\")\n",
    "\n",
    "mnist_test_dataloader = ndldata.DataLoader(dataset=mnist_test_dataset,\n",
    "                                            batch_size=BATCH_SIZE,\n",
    "                                            shuffle=False)"
   ]
  },
  {
   "cell_type": "code",
   "execution_count": 3,
   "metadata": {},
   "outputs": [],
   "source": [
    "def eval_GPU(model, test_loader, device):\n",
    "    model.eval()\n",
    "    n_sample, correct = 0, 0\n",
    "    acc_list = []\n",
    "    for i, batch in tqdm(enumerate(test_loader)):\n",
    "        x, y = batch[0], batch[1]\n",
    "        gx = x.cuda()\n",
    "        gy = y.cuda()\n",
    "        gx = gx.reshape((gx.shape[0], -1))\n",
    "        y_hat = model(gx)\n",
    "\n",
    "        logit = nd.array(np.argmax(y_hat.cached_data.numpy(), axis=1), device = ndl.cuda())\n",
    "        # print(logit.device)\n",
    "        # print(y.cached_data.device)\n",
    "        correct += np.sum((logit == gy.cached_data).numpy().astype('int'))\n",
    "\n",
    "        n_sample += gx.shape[0]\n",
    "        acc_list.append(correct / x.shape[0])\n",
    "\n",
    "    acc = correct / n_sample\n",
    "    print('acc {}'.format(acc))"
   ]
  },
  {
   "cell_type": "code",
   "execution_count": 4,
   "metadata": {},
   "outputs": [],
   "source": [
    "gpu_device = ndl.cuda()\n",
    "gmodel = MLPNet(784, HIDDEN_DIM, device=gpu_device)\n",
    "gmodel_ckpt = ndl.load('../weights/gmodel284l4_5epoch.pkl', device=gpu_device)\n",
    "gmodel.load_state_dict(gmodel_ckpt)"
   ]
  },
  {
   "cell_type": "code",
   "execution_count": 5,
   "metadata": {},
   "outputs": [
    {
     "name": "stderr",
     "output_type": "stream",
     "text": [
      "79it [00:00, 652.57it/s]"
     ]
    },
    {
     "name": "stdout",
     "output_type": "stream",
     "text": [
      "acc 0.9779\n"
     ]
    },
    {
     "name": "stderr",
     "output_type": "stream",
     "text": [
      "\n"
     ]
    }
   ],
   "source": [
    "gpu_device.init_cublas()\n",
    "eval_GPU(gmodel, mnist_test_dataloader, device=gpu_device)\n",
    "gpu_device.clean_cublas()"
   ]
  },
  {
   "cell_type": "code",
   "execution_count": 6,
   "metadata": {},
   "outputs": [
    {
     "data": {
      "image/png": "[encoded data removed]",
      "text/plain": [
       "<Figure size 480x480 with 2 Axes>"
      ]
     },
     "metadata": {},
     "output_type": "display_data"
    }
   ],
   "source": [
    "gmodel.parameters()[0]\n",
    "Linear_1 = gmodel.parameters()[0].numpy()\n",
    "L_1 = Linear_1[92:108, 55:71]\n",
    "\n",
    "plt.Figure(figsize=(30,30))\n",
    "plt.matshow(L_1)\n",
    "plt.colorbar()\n",
    "plt.show()"
   ]
  },
  {
   "cell_type": "markdown",
   "metadata": {},
   "source": [
    "# Pruning"
   ]
  },
  {
   "cell_type": "code",
   "execution_count": 7,
   "metadata": {},
   "outputs": [
    {
     "name": "stdout",
     "output_type": "stream",
     "text": [
      "[ASP] torchvision is imported, can work with the MaskRCNN/KeypointRCNN from torchvision.\n",
      "[ASP] Sparsifying 0::weight of size=torch.Size([784, 256]) and type=torch.float32 for sparsity\n",
      "[ASP] Not sparsifying 0::bias of size=torch.Size([784]) and type=torch.float32\n",
      "[ASP] Sparsifying 2::weight of size=torch.Size([128, 784]) and type=torch.float32 for sparsity\n",
      "[ASP] Not sparsifying 2::bias of size=torch.Size([128]) and type=torch.float32\n",
      "[ASP] Sparsifying 4::weight of size=torch.Size([256, 128]) and type=torch.float32 for sparsity\n",
      "[ASP] Not sparsifying 4::bias of size=torch.Size([128]) and type=torch.float32\n",
      "[ASP] Sparsifying 6::weight of size=torch.Size([64, 128]) and type=torch.float32 for sparsity\n",
      "[ASP] Not sparsifying 6::bias of size=torch.Size([64]) and type=torch.float32\n",
      "[ASP] Sparsifying 8::weight of size=torch.Size([128, 64]) and type=torch.float32 for sparsity\n",
      "[ASP] Not sparsifying 8::bias of size=torch.Size([128]) and type=torch.float32\n",
      "[ASP] Auto skipping pruning 10::weight of size=torch.Size([10, 128]) and type=torch.float32 for sparsity\n",
      "[ASP] Not sparsifying 10::bias of size=torch.Size([10]) and type=torch.float32\n",
      "[ASP] Enabled 50.00% sparsity for 0::weight of size=torch.Size([784, 256]) and type=torch.float32\n",
      "[ASP] Enabled 50.00% sparsity for 2::weight of size=torch.Size([128, 784]) and type=torch.float32\n",
      "[ASP] Enabled 50.00% sparsity for 4::weight of size=torch.Size([256, 128]) and type=torch.float32\n",
      "[ASP] Enabled 50.00% sparsity for 6::weight of size=torch.Size([64, 128]) and type=torch.float32\n",
      "[ASP] Enabled 50.00% sparsity for 8::weight of size=torch.Size([128, 64]) and type=torch.float32\n"
     ]
    }
   ],
   "source": [
    "model_to_sparse(gmodel, device=ndl.cuda())"
   ]
  },
  {
   "cell_type": "code",
   "execution_count": 9,
   "metadata": {},
   "outputs": [
    {
     "data": {
      "image/png": "[encoded data removed]",
      "text/plain": [
       "<Figure size 480x480 with 2 Axes>"
      ]
     },
     "metadata": {},
     "output_type": "display_data"
    }
   ],
   "source": [
    "gmodel.parameters()[0]\n",
    "Linear_1 = gmodel.parameters()[0].numpy()\n",
    "L_1 = Linear_1[92:108, 55:71]\n",
    "\n",
    "plt.Figure(figsize=(30,30))\n",
    "plt.matshow(L_1)\n",
    "plt.colorbar()\n",
    "plt.show()"
   ]
  },
  {
   "cell_type": "code",
   "execution_count": 12,
   "metadata": {},
   "outputs": [
    {
     "name": "stderr",
     "output_type": "stream",
     "text": [
      "79it [00:00, 592.86it/s]"
     ]
    },
    {
     "name": "stdout",
     "output_type": "stream",
     "text": [
      "acc 0.9758\n"
     ]
    },
    {
     "name": "stderr",
     "output_type": "stream",
     "text": [
      "\n"
     ]
    }
   ],
   "source": [
    "gpu_device.init_cublas()\n",
    "eval_GPU(gmodel, mnist_test_dataloader, gpu_device)\n",
    "gpu_device.clean_cublas()"
   ]
  }
 ],
 "metadata": {
  "kernelspec": {
   "display_name": "Python 3.9.15 ('pytorch')",
   "language": "python",
   "name": "python3"
  },
  "language_info": {
   "codemirror_mode": {
    "name": "ipython",
    "version": 3
   },
   "file_extension": ".py",
   "mimetype": "text/x-python",
   "name": "python",
   "nbconvert_exporter": "python",
   "pygments_lexer": "ipython3",
   "version": "3.9.15"
  },
  "orig_nbformat": 4,
  "vscode": {
   "interpreter": {
    "hash": "8205f6ce979d5c7d4df02561d45da4666113a2854ce10251edc8b3bc4440920d"
   }
  }
 },
 "nbformat": 4,
 "nbformat_minor": 2
}
