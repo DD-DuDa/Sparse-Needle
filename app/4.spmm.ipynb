{
 "cells": [
  {
   "cell_type": "code",
   "execution_count": 1,
   "metadata": {},
   "outputs": [
    {
     "name": "stderr",
     "output_type": "stream",
     "text": [
      "/home/dudayou/miniconda3/envs/pytorch/lib/python3.9/site-packages/tqdm/auto.py:22: TqdmWarning: IProgress not found. Please update jupyter and ipywidgets. See https://ipywidgets.readthedocs.io/en/stable/user_install.html\n",
      "  from .autonotebook import tqdm as notebook_tqdm\n"
     ]
    },
    {
     "name": "stdout",
     "output_type": "stream",
     "text": [
      "Found permutation search CUDA kernels\n",
      "[ASP][Info] permutation_search_kernels can be imported.\n"
     ]
    }
   ],
   "source": [
    "import sys\n",
    "sys.path.append('../python')\n",
    "\n",
    "import numpy as np\n",
    "import pytest\n",
    "import needle as ndl\n",
    "from needle import backend_ndarray as nd\n",
    "import needle.nn as nn\n",
    "import needle.optim as optim\n",
    "from needle import data as ndldata\n",
    "import needle.init as init\n",
    "import needle.ops as ops\n",
    "import time\n",
    "from needle.prune import model_to_sparse\n",
    "from tqdm import tqdm\n",
    "import matplotlib.pyplot as plt\n",
    "\n",
    "np.random.seed(4)\n",
    "\n",
    "\n",
    "\n",
    "def MLPNet(dim, hidden_dim=100, num_classes=10, device=ndl.cpu_numpy()):\n",
    "    ### BEGIN YOUR SOLUTION\n",
    "    mlpNet = nn.Sequential(\n",
    "        nn.Linear(in_features=dim, out_features=hidden_dim, device=device), \n",
    "        nn.ReLU(), \n",
    "        nn.Linear(in_features=hidden_dim, out_features=num_classes, device=device))\n",
    "    return mlpNet\n",
    "\n",
    "HIDDEN_DIM = 128\n",
    "gmodel = MLPNet(784, HIDDEN_DIM, device=ndl.cuda())\n",
    "# model_to_sparse(gmodel, device=ndl.cuda())"
   ]
  },
  {
   "cell_type": "code",
   "execution_count": 2,
   "metadata": {},
   "outputs": [
    {
     "data": {
      "text/plain": [
       "NDArray([[  1.9456413    7.3707213   -4.8920765  ...  21.368118   -12.203297\n",
       "   20.666864  ]\n",
       " [ 25.161188    -9.354029   -10.64579    ...  -8.788341     9.885141\n",
       "   17.51289   ]\n",
       " [  1.3165216  -13.76728      7.1766253  ...   3.2737594    0.04195976\n",
       "    2.8208694 ]\n",
       " ...\n",
       " [ 11.125205    -1.3953202    9.507089   ...  -6.1563945    3.173901\n",
       "   -8.016935  ]\n",
       " [  7.2844357  -12.565116   -17.777267   ...   4.1814327   -5.6813602\n",
       "   -6.32355   ]\n",
       " [ -8.399443     4.508689    20.04719    ... -11.391042    -6.800594\n",
       "  -11.311445  ]], device=cuda())"
      ]
     },
     "execution_count": 2,
     "metadata": {},
     "output_type": "execute_result"
    }
   ],
   "source": [
    "# sp_a = nd.array(gmodel.parameters()[0].numpy(), device = ndl.cuda())\n",
    "a = nd.array(np.random.randn(784, 128), device = ndl.cuda())\n",
    "b = nd.array(np.random.randn(128, 12), device = ndl.cuda())\n",
    "\n",
    "# sp_a @ b\n",
    "a @ b"
   ]
  },
  {
   "cell_type": "code",
   "execution_count": 1,
   "metadata": {},
   "outputs": [
    {
     "name": "stderr",
     "output_type": "stream",
     "text": [
      "/home/dudayou/miniconda3/envs/pytorch/lib/python3.9/site-packages/tqdm/auto.py:22: TqdmWarning: IProgress not found. Please update jupyter and ipywidgets. See https://ipywidgets.readthedocs.io/en/stable/user_install.html\n",
      "  from .autonotebook import tqdm as notebook_tqdm\n"
     ]
    },
    {
     "name": "stdout",
     "output_type": "stream",
     "text": [
      "Found permutation search CUDA kernels\n",
      "[ASP][Info] permutation_search_kernels can be imported.\n"
     ]
    }
   ],
   "source": [
    "import sys\n",
    "sys.path.append('../python')\n",
    "\n",
    "import numpy as np\n",
    "import pytest\n",
    "import needle as ndl\n",
    "from needle import backend_ndarray as nd\n",
    "import needle.nn as nn\n",
    "import needle.optim as optim\n",
    "from needle import data as ndldata\n",
    "import needle.init as init\n",
    "import needle.ops as ops\n",
    "import time\n",
    "from needle.prune import model_to_sparse\n",
    "from tqdm import tqdm\n",
    "import matplotlib.pyplot as plt\n",
    "\n",
    "np.random.seed(4)"
   ]
  },
  {
   "cell_type": "code",
   "execution_count": 2,
   "metadata": {},
   "outputs": [
    {
     "name": "stdout",
     "output_type": "stream",
     "text": [
      "[[ -4.110878     5.873123    -0.32590678 ...   5.67267      7.874699\n",
      "   18.035236  ]\n",
      " [ -4.1454277   14.060467     4.998366   ...  -1.2878846   15.286653\n",
      "   11.1681185 ]\n",
      " [ 16.227093    10.27214     -5.8146663  ...  12.319385   -15.728028\n",
      "    8.782509  ]\n",
      " ...\n",
      " [-25.345589     4.694891   -17.912703   ...  -5.030322    20.455603\n",
      "   -6.9711328 ]\n",
      " [ -4.57034    -17.449816     3.1104255  ...   7.6222897   14.47163\n",
      "    4.4631724 ]\n",
      " [ -7.3393745   -0.46317908 -11.362661   ... -15.341976    -2.4143767\n",
      "   -7.174461  ]]\n"
     ]
    }
   ],
   "source": [
    "gpu_device = ndl.cuda()\n",
    "gpu_device.init_cublas()\n",
    "\n",
    "a = nd.array(np.random.randn(784, 128), device = gpu_device)\n",
    "b = nd.array(np.random.randn(128, 12), device = gpu_device)\n",
    "\n",
    "print(a @ b)\n",
    "gpu_device.clean_cublas()"
   ]
  },
  {
   "cell_type": "code",
   "execution_count": null,
   "metadata": {},
   "outputs": [],
   "source": []
  }
 ],
 "metadata": {
  "kernelspec": {
   "display_name": "pytorch",
   "language": "python",
   "name": "python3"
  },
  "language_info": {
   "codemirror_mode": {
    "name": "ipython",
    "version": 3
   },
   "file_extension": ".py",
   "mimetype": "text/x-python",
   "name": "python",
   "nbconvert_exporter": "python",
   "pygments_lexer": "ipython3",
   "version": "3.9.15"
  },
  "orig_nbformat": 4,
  "vscode": {
   "interpreter": {
    "hash": "8205f6ce979d5c7d4df02561d45da4666113a2854ce10251edc8b3bc4440920d"
   }
  }
 },
 "nbformat": 4,
 "nbformat_minor": 2
}
