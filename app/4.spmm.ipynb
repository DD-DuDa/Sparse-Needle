{
 "cells": [
  {
   "cell_type": "code",
   "execution_count": 1,
   "metadata": {},
   "outputs": [
    {
     "name": "stderr",
     "output_type": "stream",
     "text": [
      "/home/dudayou/miniconda3/envs/pytorch/lib/python3.9/site-packages/tqdm/auto.py:22: TqdmWarning: IProgress not found. Please update jupyter and ipywidgets. See https://ipywidgets.readthedocs.io/en/stable/user_install.html\n",
      "  from .autonotebook import tqdm as notebook_tqdm\n"
     ]
    },
    {
     "name": "stdout",
     "output_type": "stream",
     "text": [
      "Found permutation search CUDA kernels\n",
      "[ASP][Info] permutation_search_kernels can be imported.\n"
     ]
    }
   ],
   "source": [
    "import sys\n",
    "sys.path.append('../python')\n",
    "\n",
    "import numpy as np\n",
    "import pytest\n",
    "import needle as ndl\n",
    "from needle import backend_ndarray as nd\n",
    "import needle.nn as nn\n",
    "import needle.optim as optim\n",
    "from needle import data as ndldata\n",
    "import needle.init as init\n",
    "import needle.ops as ops\n",
    "import time\n",
    "from needle.prune import model_to_sparse\n",
    "from tqdm import tqdm\n",
    "import matplotlib.pyplot as plt\n",
    "\n",
    "np.random.seed(4)\n",
    "\n",
    "def MLPNet(dim, hidden_dim=100, num_classes=10, device=ndl.cpu_numpy()):\n",
    "    ### BEGIN YOUR SOLUTION\n",
    "    mlpNet = nn.Sequential(\n",
    "        nn.Linear(in_features=dim, out_features=hidden_dim, device=device), \n",
    "        nn.ReLU(), \n",
    "        nn.Linear(in_features=hidden_dim, out_features=num_classes, device=device))\n",
    "    return mlpNet\n",
    "\n",
    "HIDDEN_DIM = 128\n",
    "gmodel = MLPNet(784, HIDDEN_DIM, device=ndl.cuda())\n",
    "# model_to_sparse(gmodel, device=ndl.cuda())"
   ]
  },
  {
   "cell_type": "code",
   "execution_count": 2,
   "metadata": {},
   "outputs": [
    {
     "name": "stdout",
     "output_type": "stream",
     "text": [
      "\n",
      "Matmul in cuda\n"
     ]
    },
    {
     "data": {
      "text/plain": [
       "NDArray([[  1.9456394    7.3707237   -4.892075   ...  21.368118   -12.203294\n",
       "   20.666872  ]\n",
       " [ 25.161184    -9.354031   -10.645789   ...  -8.788341     9.885142\n",
       "   17.512894  ]\n",
       " [  1.3165213  -13.767281     7.1766257  ...   3.273756     0.04195936\n",
       "    2.8208718 ]\n",
       " ...\n",
       " [ 11.125208    -1.3953193    9.50709    ...  -6.1563964    3.1739037\n",
       "   -8.016934  ]\n",
       " [  7.284436   -12.565117   -17.777271   ...   4.1814337   -5.6813602\n",
       "   -6.3235474 ]\n",
       " [ -8.399439     4.508687    20.047182   ... -11.391042    -6.800593\n",
       "  -11.3114395 ]], device=cuda())"
      ]
     },
     "execution_count": 2,
     "metadata": {},
     "output_type": "execute_result"
    }
   ],
   "source": [
    "# sp_a = nd.array(gmodel.parameters()[0].numpy(), device = ndl.cuda())\n",
    "a = nd.array(np.random.randn(784, 128), device = ndl.cuda())\n",
    "b = nd.array(np.random.randn(128, 12), device = ndl.cuda())\n",
    "\n",
    "# sp_a @ b\n",
    "a @ b"
   ]
  },
  {
   "cell_type": "code",
   "execution_count": null,
   "metadata": {},
   "outputs": [],
   "source": []
  }
 ],
 "metadata": {
  "language_info": {
   "name": "python"
  },
  "orig_nbformat": 4
 },
 "nbformat": 4,
 "nbformat_minor": 2
}
